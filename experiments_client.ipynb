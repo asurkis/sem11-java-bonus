{
 "cells": [
  {
   "cell_type": "code",
   "execution_count": 1,
   "id": "a235039b-ae35-435d-957e-1e4077018a79",
   "metadata": {},
   "outputs": [],
   "source": [
    "from subprocess import Popen, PIPE\n",
    "from pathlib import Path\n",
    "import time\n",
    "import shutil\n",
    "import pandas as pd\n",
    "from tqdm import tqdm\n",
    "import matplotlib.pyplot as plt"
   ]
  },
  {
   "cell_type": "code",
   "execution_count": 2,
   "id": "93ff9d06-6275-462f-82d5-f6407bc1c615",
   "metadata": {},
   "outputs": [],
   "source": [
    "JAVA_PATH = 'java'\n",
    "JAR_PATH = 'target/sem11-java-bonus-1.0-SNAPSHOT-jar-with-dependencies.jar'\n",
    "ARG_PREFIX = [JAVA_PATH, '-jar', JAR_PATH]\n",
    "SERVER_TYPES = ['blocking', 'nonblocking', 'async']\n",
    "PORT = '4444'"
   ]
  },
  {
   "cell_type": "code",
   "execution_count": 3,
   "id": "e85f0250-13e0-4d7f-83f2-dde67e34537b",
   "metadata": {},
   "outputs": [],
   "source": [
    "fixed_request_size = 4096\n",
    "fixed_n_clients = 20\n",
    "fixed_request_delay_ms = 50\n",
    "fixed_n_requests_per_client = 20"
   ]
  },
  {
   "cell_type": "code",
   "execution_count": 4,
   "id": "fa1a8df8-f392-404d-be59-c31486cc5166",
   "metadata": {},
   "outputs": [],
   "source": [
    "experiment_descs = pd.DataFrame(columns=['request_size', 'n_clients', 'request_delay_ms', 'n_requests_per_client'])"
   ]
  },
  {
   "cell_type": "code",
   "execution_count": 5,
   "id": "30320431-9bf4-455e-a353-ddf77e69752c",
   "metadata": {},
   "outputs": [],
   "source": [
    "def run_experiment(request_size: int, n_clients: int, request_delay_ms: int, n_requests_per_client: int):\n",
    "    global experiment_descs\n",
    "    experiment_id = len(experiment_descs)\n",
    "    experiment_descs.loc[experiment_id] = {\n",
    "        'request_size': request_size,\n",
    "        'n_clients': n_clients,\n",
    "        'request_delay_ms': request_delay_ms,\n",
    "        'n_requests_per_client': n_requests_per_client,\n",
    "    }\n",
    "\n",
    "    client_procs = []\n",
    "    dir = Path('results') / 'different_computers' / f'{experiment_id:04}'\n",
    "    dir.mkdir(parents=True, exist_ok=True)\n",
    "\n",
    "    with (dir / 'clients.csv').open('w') as client_out:\n",
    "        client_out.write('total_ns\\n')\n",
    "        for i in range(n_clients):\n",
    "            args = ARG_PREFIX + ['client', '192.168.0.105', PORT, str(request_size), str(request_delay_ms), str(n_requests_per_client)]\n",
    "            proc = Popen(args, stdout=PIPE, stderr=PIPE, encoding='utf8')\n",
    "            client_procs.append(proc)\n",
    "    \n",
    "        for i, proc in enumerate(client_procs):\n",
    "            outs, errs = proc.communicate()\n",
    "            if errs != '':\n",
    "                print('Error of client', i)\n",
    "                print(errs)\n",
    "                continue\n",
    "            assert proc.returncode == 0\n",
    "            # Конкатенируем клиентов\n",
    "            client_out.write(outs)\n",
    "    \n",
    "    return experiment_id"
   ]
  },
  {
   "cell_type": "code",
   "execution_count": 16,
   "id": "b104db71-9855-4789-b8b9-817cb5855687",
   "metadata": {},
   "outputs": [
    {
     "name": "stderr",
     "output_type": "stream",
     "text": [
      "100%|██████████████████████████████████████████████████████████████████████████████████████████████| 11/11 [00:31<00:00,  2.89s/it]\n"
     ]
    }
   ],
   "source": [
    "by_request_size = []\n",
    "for k in tqdm([2 ** i for i in range(4, 15)]):\n",
    "    id = run_experiment(\n",
    "        request_size=k,\n",
    "        n_clients=fixed_n_clients,\n",
    "        request_delay_ms=fixed_request_delay_ms,\n",
    "        n_requests_per_client=fixed_n_requests_per_client)\n",
    "    by_request_size.append(id)"
   ]
  },
  {
   "cell_type": "code",
   "execution_count": 17,
   "id": "5e4d9560-d592-416f-83e7-758f600edfaa",
   "metadata": {},
   "outputs": [
    {
     "name": "stderr",
     "output_type": "stream",
     "text": [
      "100%|████████████████████████████████████████████████████████████████████████████████████████████████| 8/8 [00:32<00:00,  4.10s/it]\n"
     ]
    }
   ],
   "source": [
    "by_n_clients = []\n",
    "for k in tqdm([1, 2, 5, 10, 20, 50, 100, 200]):\n",
    "    id = run_experiment(\n",
    "        request_size=fixed_request_size,\n",
    "        n_clients=k,\n",
    "        request_delay_ms=fixed_request_delay_ms,\n",
    "        n_requests_per_client=fixed_n_requests_per_client)\n",
    "    by_n_clients.append(id)"
   ]
  },
  {
   "cell_type": "code",
   "execution_count": 18,
   "id": "b50766de-2078-4405-b192-cc15caabb292",
   "metadata": {},
   "outputs": [
    {
     "name": "stderr",
     "output_type": "stream",
     "text": [
      "100%|████████████████████████████████████████████████████████████████████████████████████████████████| 6/6 [00:15<00:00,  2.56s/it]\n"
     ]
    }
   ],
   "source": [
    "by_request_delay_ms = []\n",
    "for k in tqdm([0, 10, 20, 50, 100, 200]):\n",
    "    id = run_experiment(\n",
    "        request_size=fixed_request_size,\n",
    "        n_clients=fixed_n_clients,\n",
    "        request_delay_ms=k,\n",
    "        n_requests_per_client=fixed_n_requests_per_client)\n",
    "    by_request_delay_ms.append(id)"
   ]
  },
  {
   "cell_type": "code",
   "execution_count": 19,
   "id": "c883aa48-de2e-4452-9a61-80452a3402fb",
   "metadata": {},
   "outputs": [
    {
     "name": "stderr",
     "output_type": "stream",
     "text": [
      "100%|████████████████████████████████████████████████████████████████████████████████████████████████| 6/6 [01:23<00:00, 13.87s/it]\n"
     ]
    }
   ],
   "source": [
    "by_n_requests_per_client = []\n",
    "for k in tqdm([10, 20, 50, 100, 200, 500]):\n",
    "    id = run_experiment(\n",
    "        request_size=fixed_request_size,\n",
    "        n_clients=fixed_n_clients,\n",
    "        request_delay_ms=fixed_request_delay_ms,\n",
    "        n_requests_per_client=k)\n",
    "    by_n_requests_per_client.append(id)"
   ]
  },
  {
   "cell_type": "code",
   "execution_count": 20,
   "id": "e2f5faa3-4205-4fa3-ae16-7321cafb8faa",
   "metadata": {},
   "outputs": [],
   "source": [
    "experiment_descs.to_csv('results/different_computers/client.csv', index_label='experiment_id')"
   ]
  }
 ],
 "metadata": {
  "kernelspec": {
   "display_name": "Python 3 (ipykernel)",
   "language": "python",
   "name": "python3"
  },
  "language_info": {
   "codemirror_mode": {
    "name": "ipython",
    "version": 3
   },
   "file_extension": ".py",
   "mimetype": "text/x-python",
   "name": "python",
   "nbconvert_exporter": "python",
   "pygments_lexer": "ipython3",
   "version": "3.11.6"
  }
 },
 "nbformat": 4,
 "nbformat_minor": 5
}
